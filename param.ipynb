{
  "cells": [
    {
      "cell_type": "code",
      "metadata": {
        "collapsed": true,
        "pycharm": {
          "name": "#%%  md\n"
        }
      },
      "source": "## 处理数据\n## 设置模型参数\n## 跑模型\n## 计算相关指标\n\n# training parameter\n#学习率\nlearning_rate\nbatch_size\nnum_steps\ndisplay_step\neval_step\n# Evalution \neval_words\n# Word2Vec parameters\nembedding_size\nmax_vocabulary\nmin_occurrence\nskip_window\nnum_skip\nnum_sumpple\n\n# softmax预测和计算topK\n",
      "execution_count": null,
      "outputs": []
    },
    {
      "cell_type": "code",
      "execution_count": null,
      "outputs": [],
      "source": "import tensorflow as tf\nfrom tensorflow.contrib import rnn\nprint(tf.version)\nrnn.BasicLSTMCell(num_hidden,forget_bias\u003d0)\nrnn.static_bidirectional_rnn\n# 交叉熵损失函数\ntf.nn.softmax_cross_entropy_with_logits\ntf.nn.softmax\ntf.train.GradientDescentOptimizer\n\ndef convnet(x_dict,n_class,dropout,reuse,is_training):\n    with tf.variable_scope(\u0027ConvNet\u0027,reuse\u003dreuse):\n        x\u003dx_dict[\u0027image\u0027]\n        x\u003dtf.reshape(x,shape\u003d[-1,28,28,1])\n        conv1\u003dtf.layers.conv2d_transpose(x,32,5,activation\u003dtf.nn.relu)\n        conv1\u003dtf.layers.max_pooling2d(conv1,2,2)\n        conv2\u003dtf.layers.conv2d(conv1,64,3,activation\u003dtf.nn.relu)\n        conv2\u003dtf.layers.max_pooling2d(conv2,2,2)\n        fc1 \u003d tf.contrib.layers.flatten(conv2)\n        fc1\u003dtf.layers.dense(fc1,1024)\n        fc1\u003dtf.layers.dropout(fc1,rate\u003ddropout,training\u003dis_training)\n        out\u003dtf.layers.dense(fc1,n_class)\n    return out\n",
      "metadata": {
        "pycharm": {
          "metadata": false,
          "name": "#%%\n"
        }
      }
    }
  ],
  "metadata": {
    "language_info": {
      "codemirror_mode": {
        "name": "ipython",
        "version": 2
      },
      "file_extension": ".py",
      "mimetype": "text/x-python",
      "name": "python",
      "nbconvert_exporter": "python",
      "pygments_lexer": "ipython2",
      "version": "2.7.6"
    },
    "kernelspec": {
      "name": "python3",
      "language": "python",
      "display_name": "Python 3"
    }
  },
  "nbformat": 4,
  "nbformat_minor": 0
}